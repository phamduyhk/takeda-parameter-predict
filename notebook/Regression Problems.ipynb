{
 "cells": [
  {
   "cell_type": "markdown",
   "metadata": {},
   "source": [
    "# Types of Regression Analysis\n",
    "1. Linear Regeression\n",
    "2. Polynomial Regression\n",
    "3. Logistic Regression\n",
    "4. Stepwise Regression\n",
    "5. Ridge Regression\n",
    "6. Lasso Regression\n",
    "7. ElasticNet Regression\n",
    "8. RandomForest\n",
    "9. XGBoost\n",
    "\n",
    "# DeepLearning\n",
    "1. Neural Network\n",
    "2. CNN\n"
   ]
  },
  {
   "cell_type": "code",
   "execution_count": null,
   "metadata": {},
   "outputs": [],
   "source": []
  }
 ],
 "metadata": {
  "kernelspec": {
   "display_name": "Python 3",
   "language": "python",
   "name": "python3"
  },
  "language_info": {
   "codemirror_mode": {
    "name": "ipython",
    "version": 3
   },
   "file_extension": ".py",
   "mimetype": "text/x-python",
   "name": "python",
   "nbconvert_exporter": "python",
   "pygments_lexer": "ipython3",
   "version": "3.6.5"
  }
 },
 "nbformat": 4,
 "nbformat_minor": 2
}
