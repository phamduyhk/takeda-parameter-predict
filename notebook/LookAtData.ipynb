{
 "cells": [
  {
   "cell_type": "code",
   "execution_count": 7,
   "metadata": {},
   "outputs": [],
   "source": [
    "import pandas as pd\n",
    "import numpy as np\n",
    "import seaborn as sns\n",
    "import matplotlib\n",
    "import matplotlib.pyplot as plt\n",
    "import warnings\n",
    "import xgboost as xgb\n",
    "# import lightgbm as lgb\n",
    "# from scipy.stats import skew\n",
    "# from scipy import stats\n",
    "# from scipy.stats.stats import pearsonr\n",
    "# from scipy.stats import norm\n",
    "# from collections import Counter\n",
    "# from sklearn.linear_model import LinearRegression,LassoCV, Ridge, LassoLarsCV,ElasticNetCV\n",
    "# from sklearn.model_selection import GridSearchCV, cross_val_score, learning_curve\n",
    "# from sklearn.ensemble import RandomForestRegressor, AdaBoostRegressor, ExtraTreesRegressor, GradientBoostingRegressor\n",
    "# from sklearn.preprocessing import StandardScaler, Normalizer, RobustScaler\n",
    "# warnings.filterwarnings('ignore')\n",
    "# sns.set(style='white', context='notebook', palette='deep')\n",
    "# %matplotlib inline"
   ]
  },
  {
   "cell_type": "code",
   "execution_count": 11,
   "metadata": {},
   "outputs": [
    {
     "name": "stderr",
     "output_type": "stream",
     "text": [
      "/Users/congthanhnguyen/anaconda3/lib/python3.6/site-packages/ipykernel_launcher.py:2: ParserWarning: Falling back to the 'python' engine because the 'c' engine does not support regex separators (separators > 1 char and different from '\\s+' are interpreted as regex); you can avoid this warning by specifying engine='python'.\n",
      "  \n",
      "/Users/congthanhnguyen/anaconda3/lib/python3.6/site-packages/ipykernel_launcher.py:3: ParserWarning: Falling back to the 'python' engine because the 'c' engine does not support regex separators (separators > 1 char and different from '\\s+' are interpreted as regex); you can avoid this warning by specifying engine='python'.\n",
      "  This is separate from the ipykernel package so we can avoid doing imports until\n"
     ]
    }
   ],
   "source": [
    "# Load train and Test set\n",
    "train_genba = pd.read_csv(\"./Data/train/train_genba.tsv\", delimiter=\"¥t\")\n",
    "train_goto = pd.read_csv(\"./Data/train/train_goto.tsv\", delimiter=\"¥t\")\n",
    "# test = pd.read_csv(\"../input/test.csv\")"
   ]
  },
  {
   "cell_type": "code",
   "execution_count": 12,
   "metadata": {},
   "outputs": [
    {
     "data": {
      "text/html": [
       "<div>\n",
       "<style scoped>\n",
       "    .dataframe tbody tr th:only-of-type {\n",
       "        vertical-align: middle;\n",
       "    }\n",
       "\n",
       "    .dataframe tbody tr th {\n",
       "        vertical-align: top;\n",
       "    }\n",
       "\n",
       "    .dataframe thead th {\n",
       "        text-align: right;\n",
       "    }\n",
       "</style>\n",
       "<table border=\"1\" class=\"dataframe\">\n",
       "  <thead>\n",
       "    <tr style=\"text-align: right;\">\n",
       "      <th></th>\n",
       "      <th>pj_no\tjukyo\tchiseki_js_hb\tchiseki_kb_hb\tyoto1\tyoto2\tkempei1\tkempei2\tyoseki1\tyoseki2\tjosui\tgesui\tgas\tusui\ttateuri_su\ttochiuri_su\tjoken_su\thy1f_date_su\thy2f_date_su\thy3f_date_su\troad1_hk\troad1_sb\troad1_fi\troad1_mg\troad2_hk\troad2_sb\troad2_fi\troad2_mg\troad3_hk\troad3_sb\troad3_fi\troad3_mg\troad4_hk\troad4_sb\troad4_fi\troad4_mg\tkaoku_um\tkaoku_hb\tyheki_kotei\tyheki_umu\tyheki_yohi\tgk_sho_kyori\tgk_chu_kyori\tkborjs\thw_status\ttoshikuiki1\ttoshikuiki2\tkodochiku\tchikukeikaku\tkeikakuroad\tkaihatsukyoka\tt53kyoka\thokakyoka\tbokachiiki\tminmenseki\thokakisei1\thokakisei2\thokakisei3\thokakisei4\tkinshijiko\trosenka_hb\tkoji_hb\tkijun_hb\tmseki_yt_hb\tmseki_rd_hb\tmseki_dp_hb\ttc_mseki_min_hb\ttc_mseki_max_hb\ttt_mseki_min_hb\ttt_mseki_max_hb\ttc_mseki_avg_hb\ttt_mseki_avg_hb\tfi4m_yohi\tfi3m_yohi\tfi4m_kyori\tfi3m_kyori\tbus_yohi\tbus_hon\tsho_conv\tsho_super\tsho_shoten\tsho_market\tshu_jutaku\tshu_park\tshu_shop\tshu_factory\tshu_hvline\tshu_tower\tshu_bochi\tshu_sogi\tshu_zoki\tshu_kokyo\tshu_highway\tshu_kaido\tshu_line_ari\tshu_line_nashi\tshu_soon\tgk_yoc_tm\tgk_sho_tm\tgk_chu_tm\trs_e_kdate2\trs_e_kdate3\trs_e_parking\trs_e_zoki\trs_e_m_ari\trs_e_m_nashi\trs_e_tahata\trs_w_kdate2\trs_w_kdate3\trs_w_parking\trs_w_zoki\trs_w_m_ari\trs_w_m_nashi\trs_w_tahata\trs_s_kdate2\trs_s_kdate3\trs_s_parking\trs_s_zoki\trs_s_m_ari\trs_s_m_nashi\trs_s_tahata\trs_n_kdate2\trs_n_kdate3\trs_n_parking\trs_n_zoki\trs_n_m_ari\trs_n_m_nashi\trs_n_tahata\trosen_nm1\teki_nm1\tbas_toho1\teki_kyori1\tbastei_nm1\tteiho1\trosen_nm2\teki_nm2\tbas_toho2\teki_kyori2\tbastei_nm2\tteiho2</th>\n",
       "    </tr>\n",
       "  </thead>\n",
       "  <tbody>\n",
       "    <tr>\n",
       "      <th>0</th>\n",
       "      <td>0\\t埼玉県朝霞市泉水\\t109.26\\t109.1\\t工業地域\\t\\t60\\t0.0\\t2...</td>\n",
       "    </tr>\n",
       "    <tr>\n",
       "      <th>1</th>\n",
       "      <td>1\\t埼玉県川越市大字的場\\t136.15\\t136.0\\t第一種低層住居専用地域\\t\\t6...</td>\n",
       "    </tr>\n",
       "    <tr>\n",
       "      <th>2</th>\n",
       "      <td>2\\t埼玉県川口市安行原\\t86.92\\t86.52\\t第一種低層住居専用地域\\t\\t50\\...</td>\n",
       "    </tr>\n",
       "    <tr>\n",
       "      <th>3</th>\n",
       "      <td>3\\t埼玉県草加市松江\\t164.91\\t164.07\\t工業地域\\t\\t60\\t0.0\\t...</td>\n",
       "    </tr>\n",
       "    <tr>\n",
       "      <th>4</th>\n",
       "      <td>4\\t埼玉県新座市野火止\\t403.58\\t403.58\\t第一種低層住居専用地域\\t\\t5...</td>\n",
       "    </tr>\n",
       "  </tbody>\n",
       "</table>\n",
       "</div>"
      ],
      "text/plain": [
       "  pj_no\\tjukyo\\tchiseki_js_hb\\tchiseki_kb_hb\\tyoto1\\tyoto2\\tkempei1\\tkempei2\\tyoseki1\\tyoseki2\\tjosui\\tgesui\\tgas\\tusui\\ttateuri_su\\ttochiuri_su\\tjoken_su\\thy1f_date_su\\thy2f_date_su\\thy3f_date_su\\troad1_hk\\troad1_sb\\troad1_fi\\troad1_mg\\troad2_hk\\troad2_sb\\troad2_fi\\troad2_mg\\troad3_hk\\troad3_sb\\troad3_fi\\troad3_mg\\troad4_hk\\troad4_sb\\troad4_fi\\troad4_mg\\tkaoku_um\\tkaoku_hb\\tyheki_kotei\\tyheki_umu\\tyheki_yohi\\tgk_sho_kyori\\tgk_chu_kyori\\tkborjs\\thw_status\\ttoshikuiki1\\ttoshikuiki2\\tkodochiku\\tchikukeikaku\\tkeikakuroad\\tkaihatsukyoka\\tt53kyoka\\thokakyoka\\tbokachiiki\\tminmenseki\\thokakisei1\\thokakisei2\\thokakisei3\\thokakisei4\\tkinshijiko\\trosenka_hb\\tkoji_hb\\tkijun_hb\\tmseki_yt_hb\\tmseki_rd_hb\\tmseki_dp_hb\\ttc_mseki_min_hb\\ttc_mseki_max_hb\\ttt_mseki_min_hb\\ttt_mseki_max_hb\\ttc_mseki_avg_hb\\ttt_mseki_avg_hb\\tfi4m_yohi\\tfi3m_yohi\\tfi4m_kyori\\tfi3m_kyori\\tbus_yohi\\tbus_hon\\tsho_conv\\tsho_super\\tsho_shoten\\tsho_market\\tshu_jutaku\\tshu_park\\tshu_shop\\tshu_factory\\tshu_hvline\\tshu_tower\\tshu_bochi\\tshu_sogi\\tshu_zoki\\tshu_kokyo\\tshu_highway\\tshu_kaido\\tshu_line_ari\\tshu_line_nashi\\tshu_soon\\tgk_yoc_tm\\tgk_sho_tm\\tgk_chu_tm\\trs_e_kdate2\\trs_e_kdate3\\trs_e_parking\\trs_e_zoki\\trs_e_m_ari\\trs_e_m_nashi\\trs_e_tahata\\trs_w_kdate2\\trs_w_kdate3\\trs_w_parking\\trs_w_zoki\\trs_w_m_ari\\trs_w_m_nashi\\trs_w_tahata\\trs_s_kdate2\\trs_s_kdate3\\trs_s_parking\\trs_s_zoki\\trs_s_m_ari\\trs_s_m_nashi\\trs_s_tahata\\trs_n_kdate2\\trs_n_kdate3\\trs_n_parking\\trs_n_zoki\\trs_n_m_ari\\trs_n_m_nashi\\trs_n_tahata\\trosen_nm1\\teki_nm1\\tbas_toho1\\teki_kyori1\\tbastei_nm1\\tteiho1\\trosen_nm2\\teki_nm2\\tbas_toho2\\teki_kyori2\\tbastei_nm2\\tteiho2\n",
       "0  0\\t埼玉県朝霞市泉水\\t109.26\\t109.1\\t工業地域\\t\\t60\\t0.0\\t2...                                                                                                                                                                                                                                                                                                                                                                                                                                                                                                                                                                                                                                                                                                                                                                                                                                                                                                                                                                                                                                                                                                                                                                                                                                                                                                                                                                                                                                                                                                                                                                                                                              \n",
       "1  1\\t埼玉県川越市大字的場\\t136.15\\t136.0\\t第一種低層住居専用地域\\t\\t6...                                                                                                                                                                                                                                                                                                                                                                                                                                                                                                                                                                                                                                                                                                                                                                                                                                                                                                                                                                                                                                                                                                                                                                                                                                                                                                                                                                                                                                                                                                                                                                                                                              \n",
       "2  2\\t埼玉県川口市安行原\\t86.92\\t86.52\\t第一種低層住居専用地域\\t\\t50\\...                                                                                                                                                                                                                                                                                                                                                                                                                                                                                                                                                                                                                                                                                                                                                                                                                                                                                                                                                                                                                                                                                                                                                                                                                                                                                                                                                                                                                                                                                                                                                                                                                              \n",
       "3  3\\t埼玉県草加市松江\\t164.91\\t164.07\\t工業地域\\t\\t60\\t0.0\\t...                                                                                                                                                                                                                                                                                                                                                                                                                                                                                                                                                                                                                                                                                                                                                                                                                                                                                                                                                                                                                                                                                                                                                                                                                                                                                                                                                                                                                                                                                                                                                                                                                              \n",
       "4  4\\t埼玉県新座市野火止\\t403.58\\t403.58\\t第一種低層住居専用地域\\t\\t5...                                                                                                                                                                                                                                                                                                                                                                                                                                                                                                                                                                                                                                                                                                                                                                                                                                                                                                                                                                                                                                                                                                                                                                                                                                                                                                                                                                                                                                                                                                                                                                                                                              "
      ]
     },
     "execution_count": 12,
     "metadata": {},
     "output_type": "execute_result"
    }
   ],
   "source": [
    "train_genba.head()"
   ]
  },
  {
   "cell_type": "code",
   "execution_count": 13,
   "metadata": {},
   "outputs": [
    {
     "data": {
      "text/html": [
       "<div>\n",
       "<style scoped>\n",
       "    .dataframe tbody tr th:only-of-type {\n",
       "        vertical-align: middle;\n",
       "    }\n",
       "\n",
       "    .dataframe tbody tr th {\n",
       "        vertical-align: top;\n",
       "    }\n",
       "\n",
       "    .dataframe thead th {\n",
       "        text-align: right;\n",
       "    }\n",
       "</style>\n",
       "<table border=\"1\" class=\"dataframe\">\n",
       "  <thead>\n",
       "    <tr style=\"text-align: right;\">\n",
       "      <th></th>\n",
       "      <th>id\tpj_no\tkeiyaku_pr\ttc_mseki\ttt_mseki\tlevelplan\tfukuin\troad_st\tmagutchi\tsetsudo_hi\tsetsudo_kj\tjigata\thiatari\tniwasaki\tgarage\tkobetsu1\tkobetsu2\tkobetsu3\tkobetsu4</th>\n",
       "    </tr>\n",
       "  </thead>\n",
       "  <tbody>\n",
       "    <tr>\n",
       "      <th>0</th>\n",
       "      <td>train_0000\\t0\\t39800000\\t109.26\\t104.43\\t2F/4L...</td>\n",
       "    </tr>\n",
       "    <tr>\n",
       "      <th>1</th>\n",
       "      <td>train_0001\\t1\\t22300000\\t136.11\\t105.16\\t2F/4L...</td>\n",
       "    </tr>\n",
       "    <tr>\n",
       "      <th>2</th>\n",
       "      <td>train_0002\\t2\\t19800000\\t87.07\\t85.94\\t2F/4LDK...</td>\n",
       "    </tr>\n",
       "    <tr>\n",
       "      <th>3</th>\n",
       "      <td>train_0003\\t3\\t33990000\\t163.75\\t105.98\\t2F/4L...</td>\n",
       "    </tr>\n",
       "    <tr>\n",
       "      <th>4</th>\n",
       "      <td>train_0004\\t4\\t30800000\\t111.51\\t89.01\\t2F/4LD...</td>\n",
       "    </tr>\n",
       "  </tbody>\n",
       "</table>\n",
       "</div>"
      ],
      "text/plain": [
       "  id\\tpj_no\\tkeiyaku_pr\\ttc_mseki\\ttt_mseki\\tlevelplan\\tfukuin\\troad_st\\tmagutchi\\tsetsudo_hi\\tsetsudo_kj\\tjigata\\thiatari\\tniwasaki\\tgarage\\tkobetsu1\\tkobetsu2\\tkobetsu3\\tkobetsu4\n",
       "0  train_0000\\t0\\t39800000\\t109.26\\t104.43\\t2F/4L...                                                                                                                                \n",
       "1  train_0001\\t1\\t22300000\\t136.11\\t105.16\\t2F/4L...                                                                                                                                \n",
       "2  train_0002\\t2\\t19800000\\t87.07\\t85.94\\t2F/4LDK...                                                                                                                                \n",
       "3  train_0003\\t3\\t33990000\\t163.75\\t105.98\\t2F/4L...                                                                                                                                \n",
       "4  train_0004\\t4\\t30800000\\t111.51\\t89.01\\t2F/4LD...                                                                                                                                "
      ]
     },
     "execution_count": 13,
     "metadata": {},
     "output_type": "execute_result"
    }
   ],
   "source": [
    "train_goto.head()"
   ]
  },
  {
   "cell_type": "code",
   "execution_count": null,
   "metadata": {},
   "outputs": [],
   "source": []
  }
 ],
 "metadata": {
  "kernelspec": {
   "display_name": "Python 3",
   "language": "python",
   "name": "python3"
  },
  "language_info": {
   "codemirror_mode": {
    "name": "ipython",
    "version": 3
   },
   "file_extension": ".py",
   "mimetype": "text/x-python",
   "name": "python",
   "nbconvert_exporter": "python",
   "pygments_lexer": "ipython3",
   "version": "3.6.5"
  }
 },
 "nbformat": 4,
 "nbformat_minor": 2
}
