{
 "cells": [
  {
   "cell_type": "code",
   "execution_count": 1,
   "metadata": {},
   "outputs": [],
   "source": [
    "import pandas as pd\n",
    "import numpy as np\n",
    "import seaborn as sns\n",
    "\n",
    "import matplotlib\n",
    "import matplotlib.pyplot as plt"
   ]
  },
  {
   "cell_type": "code",
   "execution_count": 7,
   "metadata": {},
   "outputs": [],
   "source": [
    "train_path ='./../Data/test/test_filled_missing.tsv'\n",
    "train=  pd.read_csv(train_path, sep=\"\\t\")"
   ]
  },
  {
   "cell_type": "code",
   "execution_count": 8,
   "metadata": {},
   "outputs": [],
   "source": [
    "categories = train.select_dtypes(include=['object']).columns"
   ]
  },
  {
   "cell_type": "code",
   "execution_count": 9,
   "metadata": {},
   "outputs": [
    {
     "name": "stdout",
     "output_type": "stream",
     "text": [
      "Index([], dtype='object')\n",
      "0\n"
     ]
    }
   ],
   "source": [
    "print(categories)\n",
    "print(len(categories))"
   ]
  },
  {
   "cell_type": "code",
   "execution_count": 10,
   "metadata": {},
   "outputs": [
    {
     "data": {
      "text/plain": [
       "chiseki_js_hb       0\n",
       "chiseki_kb_hb       0\n",
       "kempei1             0\n",
       "kempei2             0\n",
       "yoseki1             0\n",
       "yoseki2             0\n",
       "josui               0\n",
       "gesui               0\n",
       "gas                 0\n",
       "usui                0\n",
       "tateuri_su          0\n",
       "tochiuri_su         0\n",
       "joken_su            0\n",
       "hy1f_date_su        0\n",
       "hy2f_date_su        0\n",
       "hy3f_date_su        0\n",
       "road1_sb            1\n",
       "road1_fi            0\n",
       "road1_mg            0\n",
       "road2_sb            0\n",
       "road2_fi            0\n",
       "road2_mg            0\n",
       "road3_sb            0\n",
       "road3_fi            0\n",
       "road3_mg            0\n",
       "road4_sb            0\n",
       "road4_fi            0\n",
       "road4_mg            0\n",
       "kaoku_um            0\n",
       "kaoku_hb            0\n",
       "                   ..\n",
       "kobetsu3_行き止まり      0\n",
       "kobetsu3_行き止まり途中    0\n",
       "kobetsu3_街道沿い       0\n",
       "kobetsu3_裏道         0\n",
       "kobetsu3_角地         0\n",
       "kobetsu3_計画道路       0\n",
       "kobetsu3_踏切付近       0\n",
       "kobetsu3_車進入困難      0\n",
       "kobetsu3_高圧線下       0\n",
       "kobetsu3_nan        0\n",
       "kobetsu4_三方路        0\n",
       "kobetsu4_二方路        0\n",
       "kobetsu4_交通量多い      0\n",
       "kobetsu4_信号前        0\n",
       "kobetsu4_信号近い       0\n",
       "kobetsu4_前面道が坂途中    0\n",
       "kobetsu4_地役権有       0\n",
       "kobetsu4_嫌悪施設隣接     0\n",
       "kobetsu4_宅内高低差あり    0\n",
       "kobetsu4_床暖房付       0\n",
       "kobetsu4_眺望良        0\n",
       "kobetsu4_行き止まり      0\n",
       "kobetsu4_行き止まり途中    0\n",
       "kobetsu4_街道沿い       0\n",
       "kobetsu4_裏道         0\n",
       "kobetsu4_角地         0\n",
       "kobetsu4_計画道路       0\n",
       "kobetsu4_車進入困難      0\n",
       "kobetsu4_高圧線下       0\n",
       "kobetsu4_nan        0\n",
       "Length: 417, dtype: int64"
      ]
     },
     "execution_count": 10,
     "metadata": {},
     "output_type": "execute_result"
    }
   ],
   "source": [
    "train.isnull().sum()"
   ]
  },
  {
   "cell_type": "code",
   "execution_count": 34,
   "metadata": {},
   "outputs": [],
   "source": [
    "test2 = test.sort_values(ascending=True)"
   ]
  },
  {
   "cell_type": "code",
   "execution_count": 35,
   "metadata": {},
   "outputs": [
    {
     "name": "stdout",
     "output_type": "stream",
     "text": [
      "Index(['第一種低層住居専用地域', '第二種低層住居専用地域', '第二種中高層住居専用地域', '準住居地域', '第一種住居地域',\n",
      "       '第二種住居地域', 'None', '第一種中高層住居専用地域', '準工業地域', '近隣商業地域'],\n",
      "      dtype='object', name='yoto2')\n"
     ]
    }
   ],
   "source": [
    "print(test2.index)"
   ]
  },
  {
   "cell_type": "code",
   "execution_count": 36,
   "metadata": {},
   "outputs": [
    {
     "name": "stdout",
     "output_type": "stream",
     "text": [
      "yoto2\n",
      "第一種低層住居専用地域     2.613277e+07\n",
      "第二種低層住居専用地域     2.618750e+07\n",
      "第二種中高層住居専用地域    2.622352e+07\n",
      "準住居地域           2.689350e+07\n",
      "第一種住居地域         2.690235e+07\n",
      "第二種住居地域         2.923640e+07\n",
      "None            3.011136e+07\n",
      "第一種中高層住居専用地域    3.237667e+07\n",
      "準工業地域           3.346000e+07\n",
      "近隣商業地域          3.541111e+07\n",
      "Name: keiyaku_pr, dtype: float64\n"
     ]
    }
   ],
   "source": []
  },
  {
   "cell_type": "code",
   "execution_count": 40,
   "metadata": {},
   "outputs": [
    {
     "name": "stdout",
     "output_type": "stream",
     "text": [
      "26132769.230769232\n",
      "26187500.0\n",
      "26223519.6\n",
      "26893500.0\n",
      "26902349.05263158\n",
      "29236400.46875\n",
      "30111360.062724013\n",
      "32376666.666666668\n",
      "33460000.0\n",
      "35411111.11111111\n"
     ]
    }
   ],
   "source": [
    "test_dict ={}\n",
    "for i in range(len(test2.index)):\n",
    "    print(test2[i])\n",
    "    test_dict[test2.index[i]] = i"
   ]
  },
  {
   "cell_type": "code",
   "execution_count": 41,
   "metadata": {},
   "outputs": [
    {
     "name": "stdout",
     "output_type": "stream",
     "text": [
      "{'第一種低層住居専用地域': 0, '第二種低層住居専用地域': 1, '第二種中高層住居専用地域': 2, '準住居地域': 3, '第一種住居地域': 4, '第二種住居地域': 5, 'None': 6, '第一種中高層住居専用地域': 7, '準工業地域': 8, '近隣商業地域': 9}\n"
     ]
    }
   ],
   "source": [
    "print(test_dict)"
   ]
  },
  {
   "cell_type": "code",
   "execution_count": 47,
   "metadata": {},
   "outputs": [],
   "source": [
    "train['yoto2'].replace(test_dict, inplace=True)"
   ]
  },
  {
   "cell_type": "code",
   "execution_count": 48,
   "metadata": {},
   "outputs": [
    {
     "name": "stdout",
     "output_type": "stream",
     "text": [
      "0       6\n",
      "1       6\n",
      "2       6\n",
      "3       6\n",
      "4       6\n",
      "5       6\n",
      "6       6\n",
      "7       6\n",
      "8       6\n",
      "9       6\n",
      "10      6\n",
      "11      6\n",
      "12      6\n",
      "13      6\n",
      "14      6\n",
      "15      6\n",
      "16      6\n",
      "17      6\n",
      "18      6\n",
      "19      6\n",
      "20      6\n",
      "21      6\n",
      "22      6\n",
      "23      6\n",
      "24      6\n",
      "25      6\n",
      "26      6\n",
      "27      6\n",
      "28      6\n",
      "29      6\n",
      "       ..\n",
      "6431    6\n",
      "6432    6\n",
      "6433    6\n",
      "6434    6\n",
      "6435    6\n",
      "6436    6\n",
      "6437    6\n",
      "6438    6\n",
      "6439    9\n",
      "6440    9\n",
      "6441    9\n",
      "6442    9\n",
      "6443    3\n",
      "6444    6\n",
      "6445    6\n",
      "6446    6\n",
      "6447    6\n",
      "6448    6\n",
      "6449    6\n",
      "6450    6\n",
      "6451    6\n",
      "6452    6\n",
      "6453    6\n",
      "6454    6\n",
      "6455    6\n",
      "6456    6\n",
      "6457    6\n",
      "6458    6\n",
      "6459    6\n",
      "6460    6\n",
      "Name: yoto2, Length: 6461, dtype: int64\n"
     ]
    }
   ],
   "source": [
    "print(train['yoto2'])"
   ]
  },
  {
   "cell_type": "code",
   "execution_count": 49,
   "metadata": {},
   "outputs": [],
   "source": [
    "test = 'test2'"
   ]
  },
  {
   "cell_type": "code",
   "execution_count": 50,
   "metadata": {},
   "outputs": [
    {
     "name": "stdout",
     "output_type": "stream",
     "text": [
      "True\n"
     ]
    }
   ],
   "source": [
    "print('test' in test)"
   ]
  },
  {
   "cell_type": "code",
   "execution_count": 51,
   "metadata": {},
   "outputs": [],
   "source": [
    "test = {}\n",
    "if test is True:\n",
    "    print('OK')"
   ]
  },
  {
   "cell_type": "code",
   "execution_count": 52,
   "metadata": {},
   "outputs": [
    {
     "name": "stdout",
     "output_type": "stream",
     "text": [
      "0\n"
     ]
    }
   ],
   "source": [
    "print(len(test))"
   ]
  },
  {
   "cell_type": "code",
   "execution_count": null,
   "metadata": {},
   "outputs": [],
   "source": []
  }
 ],
 "metadata": {
  "kernelspec": {
   "display_name": "Python 3",
   "language": "python",
   "name": "python3"
  },
  "language_info": {
   "codemirror_mode": {
    "name": "ipython",
    "version": 3
   },
   "file_extension": ".py",
   "mimetype": "text/x-python",
   "name": "python",
   "nbconvert_exporter": "python",
   "pygments_lexer": "ipython3",
   "version": "3.6.5"
  }
 },
 "nbformat": 4,
 "nbformat_minor": 2
}
